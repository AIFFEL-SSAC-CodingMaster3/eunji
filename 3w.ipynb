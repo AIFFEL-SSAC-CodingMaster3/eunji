{
 "cells": [
  {
   "cell_type": "code",
   "execution_count": 3,
   "id": "referenced-reply",
   "metadata": {
    "ExecuteTime": {
     "end_time": "2021-01-27T03:42:18.546474Z",
     "start_time": "2021-01-27T03:42:18.543724Z"
    }
   },
   "outputs": [],
   "source": [
    "class ListNode:\n",
    "    def __init__(self, val=0, next=None):\n",
    "        self.val = val\n",
    "        self.next = next"
   ]
  },
  {
   "cell_type": "markdown",
   "id": "public-arlington",
   "metadata": {},
   "source": [
    "<br><br><br>"
   ]
  },
  {
   "attachments": {},
   "cell_type": "markdown",
   "id": "official-vegetarian",
   "metadata": {},
   "source": [
    "# Linked List"
   ]
  },
  {
   "cell_type": "markdown",
   "id": "ancient-montana",
   "metadata": {},
   "source": [
    "- 단방향 연결리스트 - 각 원소가 다음 원소를 가리키는 포인터만 가지는 방식  \n",
    "![single_linked_list.png](http://drive.google.com/uc?id=1675Yocw411uZLN89fZC-BG80TXpnOOS-)  \n",
    "\n",
    "<br>\n",
    "\n",
    "- 양방향 연결리스트 - 각 원소들이 이전과 다음 원소를 가리키는 포인터를 가지고 있는 방식  \n",
    "![double_linked_list.png](http://drive.google.com/uc?id=1tIaD1CNJfIJEdXBAqzC2cvESpVgm8WNl)  \n",
    "\n",
    "<br><br>\n",
    "\n",
    "- 장점\n",
    "  - 데이터가 늘어도 비어있는 메모리 주소를 이용하여 **쉽게 확장해나갈 수 있다.** \n",
    "  - 데이터 추가/삭제가 빠르다. 포인터만 바꾸면 되기 때문에.\n",
    "- 단점\n",
    "  - 데이터 조회 속도가 느리다. \n",
    "\n",
    "<br>"
   ]
  },
  {
   "cell_type": "markdown",
   "id": "characteristic-oakland",
   "metadata": {},
   "source": [
    "## dummy node\n",
    "\n",
    "더미 노드란, 데이터 저장을 위한 노드가 아니라 노드의 추가/삭제 구현의 간편성을 위해 사용하는 노드이다.  \n",
    "실제 데이터를 저장하는 다른 노드를 가리키는 포인터의 역할만을 수행한다.   \n"
   ]
  },
  {
   "cell_type": "markdown",
   "id": "latin-montgomery",
   "metadata": {},
   "source": [
    "<br><br><br><br><br>"
   ]
  },
  {
   "cell_type": "markdown",
   "id": "brief-celtic",
   "metadata": {},
   "source": [
    "# 234. Palindrome Linked List"
   ]
  },
  {
   "cell_type": "markdown",
   "id": "grand-anxiety",
   "metadata": {},
   "source": [
    "**문제**  [link](https://leetcode.com/problems/palindrome-linked-list/)  \n",
    "singly linked list가 주어지면 Palindrome인지 확인하여 맞으면 True, 아니면 False를 리턴하라  \n",
    "\n",
    "**입출력**  \n",
    "`1->2` False  \n",
    "`1->2->2->1` True  |"
   ]
  },
  {
   "cell_type": "markdown",
   "id": "quiet-instrument",
   "metadata": {},
   "source": [
    "## 코드 1 - deque"
   ]
  },
  {
   "cell_type": "markdown",
   "id": "apparent-ivory",
   "metadata": {
    "ExecuteTime": {
     "end_time": "2021-01-21T16:08:12.040494Z",
     "start_time": "2021-01-21T16:08:12.035900Z"
    }
   },
   "source": [
    "Runtime: 72 ms  \n",
    "Memory Usage: 24.1 MB  \n",
    "  \n",
    "LinkedList를 deque로 변환작업을 해주어 양 쪽 끝에서 꺼내기 쉽게 만든다. 그 후 노드의 양 끝에서 요소를 꺼냈을 때 값이 같은지 비교한다."
   ]
  },
  {
   "cell_type": "code",
   "execution_count": 8,
   "id": "persistent-halifax",
   "metadata": {
    "ExecuteTime": {
     "end_time": "2021-01-21T16:10:12.521310Z",
     "start_time": "2021-01-21T16:10:12.517584Z"
    }
   },
   "outputs": [],
   "source": [
    "# deque 활용\n",
    "from collections import deque\n",
    "\n",
    "class Solution:\n",
    "    def isPalindrome(self, head: ListNode) -> bool:\n",
    "        queue = deque()\n",
    "        \n",
    "        node = head\n",
    "        while node is not None:\n",
    "            queue.append(node.val)\n",
    "            node = node.next\n",
    "        \n",
    "        while len(queue) > 1:  # 노드개수가 짝수, 홀수와 상관없이 하기 위해\n",
    "            if queue.popleft() != queue.pop():\n",
    "                return False\n",
    "        return True"
   ]
  },
  {
   "cell_type": "markdown",
   "id": "circular-insider",
   "metadata": {},
   "source": [
    "## 코드 2 - runner"
   ]
  },
  {
   "cell_type": "markdown",
   "id": "accomplished-palace",
   "metadata": {},
   "source": [
    "Runtime: 68 ms  \n",
    "Memory Usage: 24.2 MB"
   ]
  },
  {
   "cell_type": "code",
   "execution_count": 4,
   "id": "detailed-democracy",
   "metadata": {
    "ExecuteTime": {
     "end_time": "2021-01-27T03:42:21.262941Z",
     "start_time": "2021-01-27T03:42:21.259060Z"
    }
   },
   "outputs": [],
   "source": [
    "class Solution:\n",
    "    def isPalindrome(self, head: ListNode) -> bool:\n",
    "        rev = None\n",
    "        slow = fast = head  # fast, slow 모두 head에서 시작.\n",
    "        \n",
    "        # fast는 2칸씩, slow는 1칸씩 이동\n",
    "        while fast and fast.next:\n",
    "            fast = fast.next.next\n",
    "            rev, rev.next, slow = slow, rev, slow.next # slow가 중간까지 이동하면서 역순으로 연결리스트 rev를 만들어나간다.\n",
    "        \n",
    "        if fast:  # 짝수, 홀수의 여부에 따라.\n",
    "            slow = slow.next\n",
    "        \n",
    "        # 팰린드롬 여부 확인\n",
    "        while rev and rev.val == slow.val:\n",
    "            slow, rev = slow.next, rev.next\n",
    "        \n",
    "        return not rev"
   ]
  },
  {
   "cell_type": "markdown",
   "id": "intellectual-czech",
   "metadata": {},
   "source": [
    "**홀수일때,  [1,2,3,2,1]**  \n",
    "fast :  ListNode{val: 3, next: ListNode{val: 2, next: ListNode{val: 1, next: None}}}  \n",
    "slow :  ListNode{val: 2, next: ListNode{val: 3, next: ListNode{val: 2, next: ListNode{val: 1, next: None}}}}  \n",
    "rev :  ListNode{val: 1, next: None}  \n",
    "  \n",
    "fast :  ListNode{val: 1, next: None}  \n",
    "slow :  ListNode{val: 3, next: ListNode{val: 2, next: ListNode{val: 1, next: None}}}  \n",
    "rev :  ListNode{val: 2, next: ListNode{val: 1, next: None}}  \n",
    "\n",
    "**짝수일때 : [1,2,2,1]**  \n",
    "fast :  ListNode{val: 2, next: ListNode{val: 1, next: None}}  \n",
    "slow :  ListNode{val: 2, next: ListNode{val: 2, next: ListNode{val: 1, next: None}}}  \n",
    "rev :  ListNode{val: 1, next: None}  \n",
    "      \n",
    "fast :  None  \n",
    "slow :  ListNode{val: 2, next: ListNode{val: 1, next: None}}  \n",
    "rev :  ListNode{val: 2, next: ListNode{val: 1, next: None}}  "
   ]
  },
  {
   "cell_type": "markdown",
   "id": "declared-harvey",
   "metadata": {
    "ExecuteTime": {
     "end_time": "2021-01-21T15:31:06.775030Z",
     "start_time": "2021-01-21T15:31:06.772488Z"
    },
    "heading_collapsed": true
   },
   "source": [
    "## collections.deque"
   ]
  },
  {
   "cell_type": "markdown",
   "id": "sitting-champagne",
   "metadata": {
    "hidden": true
   },
   "source": [
    "[list와 deque 시간 복잡도](https://daimhada.tistory.com/56)\n",
    "\n",
    "- doubled ended queue\n",
    "- 내부적으로 double linked list로 구현되어 있어, 양 끝에 모두 접근이 가능하다.\n",
    "- 단, deque의 가운데 부분을 찾거나, 중간에 삽입, 제거하는 것은 더 느리다."
   ]
  },
  {
   "cell_type": "markdown",
   "id": "stainless-found",
   "metadata": {
    "hidden": true
   },
   "source": [
    "<br><br><br><br><br><br>"
   ]
  },
  {
   "cell_type": "markdown",
   "id": "floating-paint",
   "metadata": {
    "heading_collapsed": true
   },
   "source": [
    "# 21 Merge Two Sorted Lists"
   ]
  },
  {
   "cell_type": "markdown",
   "id": "acting-dominant",
   "metadata": {
    "hidden": true
   },
   "source": [
    "**[문제](https://leetcode.com/problems/merge-two-sorted-lists/)**  \n",
    "정렬되어 있는 두 연결리스트를 합쳐라.  "
   ]
  },
  {
   "cell_type": "markdown",
   "id": "collectible-moses",
   "metadata": {
    "hidden": true
   },
   "source": [
    "Runtime: 40 ms  \n",
    "Memory Usage: 14.3 MB"
   ]
  },
  {
   "cell_type": "code",
   "execution_count": 4,
   "id": "modular-monkey",
   "metadata": {
    "ExecuteTime": {
     "end_time": "2021-01-26T23:57:29.857079Z",
     "start_time": "2021-01-26T23:57:29.853190Z"
    },
    "hidden": true
   },
   "outputs": [],
   "source": [
    "class Solution:\n",
    "    def mergeTwoLists(self, l1: ListNode, l2: ListNode) -> ListNode:\n",
    "        if not l1 or l2 and l1.val > l2.val:\n",
    "            l1, l2 = l2, l1\n",
    "        \n",
    "        if l1:\n",
    "            l1.next = self.mergeTwoLists(l1.next, l2)\n",
    "        \n",
    "        return l1"
   ]
  },
  {
   "cell_type": "markdown",
   "id": "about-arcade",
   "metadata": {
    "hidden": true
   },
   "source": [
    "<br><br><br><br><br><br>"
   ]
  },
  {
   "cell_type": "markdown",
   "id": "continuing-officer",
   "metadata": {
    "heading_collapsed": true
   },
   "source": [
    "# 206. Reverse Linked List"
   ]
  },
  {
   "cell_type": "markdown",
   "id": "bigger-sending",
   "metadata": {
    "hidden": true
   },
   "source": [
    "**[문제](https://leetcode.com/problems/reverse-linked-list/)**  \n",
    "Reverse a singly linked list."
   ]
  },
  {
   "cell_type": "markdown",
   "id": "affecting-worker",
   "metadata": {
    "hidden": true
   },
   "source": [
    "Runtime: 36 ms  \n",
    "Memory Usage: 15.6 MB"
   ]
  },
  {
   "cell_type": "code",
   "execution_count": 8,
   "id": "present-jason",
   "metadata": {
    "ExecuteTime": {
     "end_time": "2021-01-27T00:08:02.413816Z",
     "start_time": "2021-01-27T00:08:02.410580Z"
    },
    "hidden": true
   },
   "outputs": [],
   "source": [
    "class Solution:\n",
    "    def reverseList(self, head: ListNode) -> ListNode:\n",
    "        node = head\n",
    "        prev = None\n",
    "        \n",
    "        while node:\n",
    "            next = node.next  # 넘겨줄 값 2->3->4->5\n",
    "            node.next = prev  # none\n",
    "            prev = node       # {val:1, next: None}\n",
    "            node = next\n",
    "        \n",
    "        return prev"
   ]
  },
  {
   "cell_type": "markdown",
   "id": "rational-heavy",
   "metadata": {
    "hidden": true
   },
   "source": [
    "|next|node.next = prev >> node|prev|node|\n",
    "|-|-|-|-|\n",
    "|2->3->4->5|{val:1, next:None}|{val:1, next:None}|2->3->4->5|\n",
    "|3->4->5|{val:2, next:{val:1, next:None}}|{val:2, next:{val:1, next:None}}|3->4->5|\n",
    "|4->5|{val:3, next:{val:2, next:{val:1, next:None}}}|{val:3, next:{val:2, next:{val:1, next:None}}}|4->5|\n",
    "|5|{val:4, next:{val:3, next:{val:2, next:{val:1, next:None}}}}|{val:4, next:{val:3, next:{val:2, next:{val:1, next:None}}}}|5|\n",
    "|None|{val:5, next:{val:4, next:{val:3, next:{val:2, next:{val:1, next:None}}}}}|{val:5, next:{val:4, next:{val:3, next:{val:2, next:{val:1, next:None}}}}}|None|"
   ]
  },
  {
   "cell_type": "markdown",
   "id": "southeast-small",
   "metadata": {
    "hidden": true
   },
   "source": [
    "<br><br><br><br><br><br>"
   ]
  },
  {
   "cell_type": "markdown",
   "id": "parliamentary-surfing",
   "metadata": {
    "heading_collapsed": true
   },
   "source": [
    "# 2. Add Two Numbers"
   ]
  },
  {
   "cell_type": "markdown",
   "id": "mysterious-planner",
   "metadata": {
    "hidden": true
   },
   "source": [
    "**[문제](https://leetcode.com/problems/add-two-numbers/)**  \n",
    "역순으로 저장된 연결리스트의 숫자를 더하라."
   ]
  },
  {
   "cell_type": "markdown",
   "id": "advanced-affairs",
   "metadata": {
    "hidden": true
   },
   "source": [
    "Runtime: 72 ms  \n",
    "Memory Usage: 14.2 MB"
   ]
  },
  {
   "cell_type": "code",
   "execution_count": 10,
   "id": "refined-motion",
   "metadata": {
    "ExecuteTime": {
     "end_time": "2021-01-27T00:09:11.398531Z",
     "start_time": "2021-01-27T00:09:11.394587Z"
    },
    "hidden": true
   },
   "outputs": [],
   "source": [
    "class Solution:\n",
    "    def addTwoNumbers(self, l1: ListNode, l2: ListNode) -> ListNode:\n",
    "        result = head = ListNode()\n",
    "        \n",
    "        quotient = 0\n",
    "        while l1 or l2 or quotient:  # 둘 중 하나라도 None이 아니거나 quotient가 0이 아니면 계속 반복\n",
    "            if l1:\n",
    "                quotient += l1.val\n",
    "                l1 = l1.next\n",
    "            if l2:\n",
    "                quotient += l2.val\n",
    "                l2 = l2.next\n",
    "\n",
    "            quotient, val = divmod(quotient,10)  # 몫과 나머지를 구하여, 10을 넘으면 1을 그 다음 val에 넘겨주기 위해.\n",
    "            head.next = ListNode(val)\n",
    "            head = head.next\n",
    "            \n",
    "        return result.next"
   ]
  },
  {
   "cell_type": "markdown",
   "id": "another-residence",
   "metadata": {
    "hidden": true
   },
   "source": [
    "<br><br><br><br><br><br>"
   ]
  },
  {
   "cell_type": "markdown",
   "id": "acoustic-carter",
   "metadata": {
    "heading_collapsed": true
   },
   "source": [
    "# 24. Swap Nodes in Pairs"
   ]
  },
  {
   "cell_type": "markdown",
   "id": "utility-husband",
   "metadata": {
    "hidden": true
   },
   "source": [
    "**[문제](https://leetcode.com/problems/swap-nodes-in-pairs/)**  \n",
    "연결리스트를 입력받아 페어 단위로 스왑하라."
   ]
  },
  {
   "cell_type": "markdown",
   "id": "split-humor",
   "metadata": {
    "hidden": true
   },
   "source": [
    "Runtime: 32 ms  \n",
    "Memory Usage: 14.3 MB"
   ]
  },
  {
   "cell_type": "code",
   "execution_count": 11,
   "id": "appreciated-national",
   "metadata": {
    "ExecuteTime": {
     "end_time": "2021-01-27T00:11:33.117046Z",
     "start_time": "2021-01-27T00:11:33.113848Z"
    },
    "hidden": true
   },
   "outputs": [],
   "source": [
    "class Solution:\n",
    "    def swapPairs(self, head: ListNode) -> ListNode:\n",
    "        top = head\n",
    "\n",
    "        while top and top.next != None:  # top이 None이 아니고, top.next != None는 홀수가 아님을 체크.\n",
    "            tmp = top.val\n",
    "            top.val = top.next.val\n",
    "            top.next.val = tmp\n",
    "            top = top.next.next  # 2칸씩 건너뛴다.\n",
    "            \n",
    "        return head"
   ]
  },
  {
   "cell_type": "markdown",
   "id": "sharp-glass",
   "metadata": {
    "hidden": true
   },
   "source": [
    "위의 코드와 구현 아이디어는 같으나 좀 더 정리하였다."
   ]
  },
  {
   "cell_type": "code",
   "execution_count": 12,
   "id": "conceptual-vietnamese",
   "metadata": {
    "ExecuteTime": {
     "end_time": "2021-01-27T00:11:52.681001Z",
     "start_time": "2021-01-27T00:11:52.677925Z"
    },
    "hidden": true
   },
   "outputs": [],
   "source": [
    "class Solution:\n",
    "    def swapPairs(self, head: ListNode) -> ListNode:\n",
    "        node = head\n",
    "        \n",
    "        while node and node.next:\n",
    "            node.val, node.next.val = node.next.val, node.val\n",
    "            node = node.next.next\n",
    "            \n",
    "        return head"
   ]
  },
  {
   "cell_type": "markdown",
   "id": "egyptian-penny",
   "metadata": {
    "hidden": true
   },
   "source": [
    "<br><br><br><br><br><br>"
   ]
  }
 ],
 "metadata": {
  "kernelspec": {
   "display_name": "Python 3",
   "language": "python",
   "name": "python3"
  },
  "language_info": {
   "codemirror_mode": {
    "name": "ipython",
    "version": 3
   },
   "file_extension": ".py",
   "mimetype": "text/x-python",
   "name": "python",
   "nbconvert_exporter": "python",
   "pygments_lexer": "ipython3",
   "version": "3.7.4"
  },
  "toc": {
   "base_numbering": 1,
   "nav_menu": {},
   "number_sections": false,
   "sideBar": true,
   "skip_h1_title": false,
   "title_cell": "Table of Contents",
   "title_sidebar": "Contents",
   "toc_cell": false,
   "toc_position": {
    "height": "662px",
    "left": "37px",
    "top": "110px",
    "width": "336px"
   },
   "toc_section_display": true,
   "toc_window_display": true
  }
 },
 "nbformat": 4,
 "nbformat_minor": 5
}
